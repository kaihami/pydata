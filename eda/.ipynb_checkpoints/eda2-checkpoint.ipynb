{
 "cells": [
  {
   "cell_type": "markdown",
   "metadata": {},
   "source": [
    "# Importing modules"
   ]
  },
  {
   "cell_type": "code",
   "execution_count": null,
   "metadata": {},
   "outputs": [],
   "source": [
    "import pandas as pd\n",
    "import numpy as np\n",
    "import matplotlib.pyplot as plt\n",
    "import seaborn as sns\n",
    "from sklearn import cluster, datasets\n",
    "from tabulate import tabulate\n",
    "from prettytable import PrettyTable\n",
    "import random\n",
    "from scipy import stats\n",
    "%matplotlib inline"
   ]
  },
  {
   "cell_type": "markdown",
   "metadata": {},
   "source": [
    "## Simple scatterplot"
   ]
  },
  {
   "cell_type": "markdown",
   "metadata": {},
   "source": [
    "Construindo dados"
   ]
  },
  {
   "cell_type": "code",
   "execution_count": null,
   "metadata": {},
   "outputs": [],
   "source": [
    "random_n1 = list(np.random.normal(18, 10, 100))\n",
    "random_n2 = list(np.random.normal(33, 10, 100))\n",
    "random_n3 = list(np.random.normal(50, 10, 100))"
   ]
  },
  {
   "cell_type": "code",
   "execution_count": null,
   "metadata": {},
   "outputs": [],
   "source": [
    "x = []\n",
    "y = []\n",
    "n_samples = 1000\n",
    "for n in range(0,100):\n",
    "    for _ in range(n_samples):\n",
    "        if n < 20:\n",
    "            x.append(n + random.sample(random_n1,1)[0])\n",
    "            y.append(n + random.sample(random_n1,1)[0])\n",
    "        elif n < 40:\n",
    "            x.append(n + random.sample(random_n2,1)[0])\n",
    "            y.append(n + random.sample(random_n2,1)[0])\n",
    "        elif n < 60:\n",
    "            x.append(n + random.sample(random_n3,1)[0])\n",
    "            y.append(n + random.sample(random_n3,1)[0])\n",
    "        elif n < 80:\n",
    "            x.append(n + random.sample(random_n2,1)[0])\n",
    "            y.append(n + random.sample(random_n2,1)[0])\n",
    "        else:\n",
    "            x.append(n + random.sample(random_n1,1)[0])\n",
    "            y.append(n + random.sample(random_n1,1)[0])"
   ]
  },
  {
   "cell_type": "markdown",
   "metadata": {},
   "source": [
    "### Plot simples"
   ]
  },
  {
   "cell_type": "code",
   "execution_count": null,
   "metadata": {},
   "outputs": [],
   "source": [
    "f, ax = plt.subplots(figsize = (8,8))\n",
    "sns.scatterplot(y, x, alpha = 1,linewidth=0.1)"
   ]
  },
  {
   "cell_type": "code",
   "execution_count": null,
   "metadata": {},
   "outputs": [],
   "source": []
  },
  {
   "cell_type": "code",
   "execution_count": null,
   "metadata": {},
   "outputs": [],
   "source": []
  },
  {
   "cell_type": "code",
   "execution_count": null,
   "metadata": {},
   "outputs": [],
   "source": []
  },
  {
   "cell_type": "code",
   "execution_count": null,
   "metadata": {},
   "outputs": [],
   "source": []
  },
  {
   "cell_type": "code",
   "execution_count": null,
   "metadata": {},
   "outputs": [],
   "source": []
  },
  {
   "cell_type": "markdown",
   "metadata": {},
   "source": [
    "### Há algum padrão?"
   ]
  },
  {
   "cell_type": "code",
   "execution_count": null,
   "metadata": {},
   "outputs": [],
   "source": [
    "sns.jointplot(y, x, alpha = 1)"
   ]
  },
  {
   "cell_type": "code",
   "execution_count": null,
   "metadata": {},
   "outputs": [],
   "source": []
  },
  {
   "cell_type": "code",
   "execution_count": null,
   "metadata": {},
   "outputs": [],
   "source": []
  },
  {
   "cell_type": "code",
   "execution_count": null,
   "metadata": {},
   "outputs": [],
   "source": []
  },
  {
   "cell_type": "code",
   "execution_count": null,
   "metadata": {},
   "outputs": [],
   "source": []
  },
  {
   "cell_type": "code",
   "execution_count": null,
   "metadata": {},
   "outputs": [],
   "source": []
  },
  {
   "cell_type": "code",
   "execution_count": null,
   "metadata": {},
   "outputs": [],
   "source": []
  },
  {
   "cell_type": "markdown",
   "metadata": {},
   "source": [
    "### Há três picos no histograma"
   ]
  },
  {
   "cell_type": "code",
   "execution_count": null,
   "metadata": {},
   "outputs": [],
   "source": [
    "sns.jointplot(y, x, alpha = 0.002)"
   ]
  },
  {
   "cell_type": "markdown",
   "metadata": {},
   "source": [
    "### Uma mudança sútil na visualização permite identificar padrões antes escondidos"
   ]
  },
  {
   "cell_type": "markdown",
   "metadata": {},
   "source": [
    "## Como identificar padrões?"
   ]
  },
  {
   "cell_type": "code",
   "execution_count": null,
   "metadata": {},
   "outputs": [],
   "source": [
    "n_samples = 10000\n",
    "X,y  = datasets.make_circles(n_samples=n_samples, factor=.5,\n",
    "                                      noise=.05)"
   ]
  },
  {
   "cell_type": "code",
   "execution_count": null,
   "metadata": {},
   "outputs": [],
   "source": [
    "data = pd.DataFrame(X, columns = ['x', 'y'])\n",
    "data['target'] = y"
   ]
  },
  {
   "cell_type": "code",
   "execution_count": null,
   "metadata": {},
   "outputs": [],
   "source": [
    "f, ax = plt.subplots(figsize = (8,8))\n",
    "sns.scatterplot(x = 'x', y = 'y',data = data, alpha = 1)"
   ]
  },
  {
   "cell_type": "code",
   "execution_count": null,
   "metadata": {},
   "outputs": [],
   "source": [
    "sns.jointplot(x = 'x', y = 'y',data = data, s = 10, alpha = 0.3)"
   ]
  },
  {
   "cell_type": "markdown",
   "metadata": {},
   "source": [
    "### Como separar os dados em dois grupos?"
   ]
  },
  {
   "cell_type": "code",
   "execution_count": null,
   "metadata": {},
   "outputs": [],
   "source": []
  },
  {
   "cell_type": "code",
   "execution_count": null,
   "metadata": {},
   "outputs": [],
   "source": []
  },
  {
   "cell_type": "code",
   "execution_count": null,
   "metadata": {},
   "outputs": [],
   "source": []
  },
  {
   "cell_type": "code",
   "execution_count": null,
   "metadata": {},
   "outputs": [],
   "source": []
  },
  {
   "cell_type": "markdown",
   "metadata": {},
   "source": [
    "### Quais métodos?"
   ]
  },
  {
   "cell_type": "code",
   "execution_count": null,
   "metadata": {},
   "outputs": [],
   "source": []
  },
  {
   "cell_type": "code",
   "execution_count": null,
   "metadata": {},
   "outputs": [],
   "source": []
  },
  {
   "cell_type": "code",
   "execution_count": null,
   "metadata": {},
   "outputs": [],
   "source": []
  },
  {
   "cell_type": "code",
   "execution_count": null,
   "metadata": {},
   "outputs": [],
   "source": []
  },
  {
   "cell_type": "markdown",
   "metadata": {},
   "source": [
    "### As vezes não precisamos utilizar métodos complexos e custosos computacionalmente"
   ]
  },
  {
   "cell_type": "markdown",
   "metadata": {},
   "source": [
    "#### Compreender o problema é o primeiro passo para uma boa análise."
   ]
  },
  {
   "cell_type": "code",
   "execution_count": null,
   "metadata": {},
   "outputs": [],
   "source": [
    "# distância"
   ]
  },
  {
   "cell_type": "code",
   "execution_count": null,
   "metadata": {},
   "outputs": [],
   "source": [
    "data['dist'] = np.sqrt(data['x']**2 + data['y']**2)"
   ]
  },
  {
   "cell_type": "code",
   "execution_count": null,
   "metadata": {},
   "outputs": [],
   "source": [
    "f, ax = plt.subplots(figsize = (15, 8))\n",
    "sns.kdeplot(data['dist'])"
   ]
  },
  {
   "cell_type": "code",
   "execution_count": null,
   "metadata": {},
   "outputs": [],
   "source": [
    "# label"
   ]
  },
  {
   "cell_type": "code",
   "execution_count": null,
   "metadata": {},
   "outputs": [],
   "source": [
    "data['color'] = 'red'\n",
    "data.loc[data['dist'] <= data['dist'].mean(), 'color'] = 'blue'"
   ]
  },
  {
   "cell_type": "code",
   "execution_count": null,
   "metadata": {},
   "outputs": [],
   "source": []
  },
  {
   "cell_type": "code",
   "execution_count": null,
   "metadata": {},
   "outputs": [],
   "source": [
    "f, ax = plt.subplots(figsize = (8,8))\n",
    "sns.scatterplot(x = 'x', y = 'y',data = data, s = 10, alpha = 0.5, hue = 'color',legend=False)"
   ]
  },
  {
   "cell_type": "code",
   "execution_count": null,
   "metadata": {},
   "outputs": [],
   "source": [
    "data['yhat'] = data['dist'].map(lambda x: 1 if x < data['dist'].mean() else 0,1)"
   ]
  },
  {
   "cell_type": "code",
   "execution_count": null,
   "metadata": {},
   "outputs": [],
   "source": [
    "def acc(target, yhat):\n",
    "    total = 0\n",
    "    for n in range(len(target)):\n",
    "        if target[n] == yhat[n]:\n",
    "            total +=1\n",
    "        else:\n",
    "            pass\n",
    "    return (total/len(target))*100"
   ]
  },
  {
   "cell_type": "code",
   "execution_count": null,
   "metadata": {},
   "outputs": [],
   "source": [
    "acc(data['yhat'], data['target'])"
   ]
  },
  {
   "cell_type": "code",
   "execution_count": null,
   "metadata": {},
   "outputs": [],
   "source": []
  },
  {
   "cell_type": "code",
   "execution_count": null,
   "metadata": {},
   "outputs": [],
   "source": []
  },
  {
   "cell_type": "code",
   "execution_count": null,
   "metadata": {},
   "outputs": [],
   "source": []
  },
  {
   "cell_type": "markdown",
   "metadata": {},
   "source": [
    "### Com uma distância euclidiana conseguimos 100% de acurácia!"
   ]
  },
  {
   "cell_type": "markdown",
   "metadata": {},
   "source": [
    "## Iris dataset"
   ]
  },
  {
   "cell_type": "markdown",
   "metadata": {},
   "source": [
    "### Load data"
   ]
  },
  {
   "cell_type": "code",
   "execution_count": null,
   "metadata": {},
   "outputs": [],
   "source": [
    "iris = pd.read_csv('./Iris.csv')\n",
    "iris.drop(columns = 'Id', inplace = True)"
   ]
  },
  {
   "cell_type": "code",
   "execution_count": null,
   "metadata": {},
   "outputs": [],
   "source": [
    "iris.head()"
   ]
  },
  {
   "cell_type": "code",
   "execution_count": null,
   "metadata": {},
   "outputs": [],
   "source": [
    "# \n",
    "print(f'''\n",
    "Número de amostras: {iris.shape[0]}\n",
    "Número de colunas : {iris.shape[1]}''')"
   ]
  },
  {
   "cell_type": "markdown",
   "metadata": {},
   "source": [
    "### Que tipo de dados?"
   ]
  },
  {
   "cell_type": "code",
   "execution_count": null,
   "metadata": {},
   "outputs": [],
   "source": [
    "# Nome das colunas\n",
    "\n",
    "table = PrettyTable()\n",
    "table.field_names = ['Index', 'Column Name']\n",
    "for i,name in enumerate(list(iris.columns)):\n",
    "    table.add_row([i, name])\n",
    "print(table)"
   ]
  },
  {
   "cell_type": "code",
   "execution_count": null,
   "metadata": {},
   "outputs": [],
   "source": [
    "dtype = iris.dtypes.reset_index()\n",
    "dtype.columns = ['Column Name', 'data type']\n",
    "print(tabulate(dtype, headers='keys', tablefmt='psql'))"
   ]
  },
  {
   "cell_type": "markdown",
   "metadata": {},
   "source": [
    "### O que é species?"
   ]
  },
  {
   "cell_type": "code",
   "execution_count": null,
   "metadata": {},
   "outputs": [],
   "source": [
    "# Nome das colunas\n",
    "\n",
    "table = PrettyTable()\n",
    "table.field_names = ['Index', 'Specie']\n",
    "for i,specie in enumerate(list(iris['Species'].unique())):\n",
    "    table.add_row([i, specie])\n",
    "print(table)"
   ]
  },
  {
   "cell_type": "markdown",
   "metadata": {},
   "source": [
    "**Três espécies diferentes**"
   ]
  },
  {
   "cell_type": "markdown",
   "metadata": {},
   "source": [
    "### Quantidade de amostras por espécies"
   ]
  },
  {
   "cell_type": "code",
   "execution_count": null,
   "metadata": {},
   "outputs": [],
   "source": [
    "qtd_species = iris.groupby('Species').size().reset_index()\n",
    "qtd_species.columns = ['Species', 'quantidade']\n",
    "print(tabulate(qtd_species, headers='keys', tablefmt='psql'))"
   ]
  },
  {
   "cell_type": "markdown",
   "metadata": {},
   "source": [
    "**Dataset bem distribuído entre as amostras**"
   ]
  },
  {
   "cell_type": "code",
   "execution_count": null,
   "metadata": {},
   "outputs": [],
   "source": [
    "iris.describe().T"
   ]
  },
  {
   "cell_type": "code",
   "execution_count": null,
   "metadata": {},
   "outputs": [],
   "source": []
  },
  {
   "cell_type": "code",
   "execution_count": null,
   "metadata": {},
   "outputs": [],
   "source": []
  },
  {
   "cell_type": "code",
   "execution_count": null,
   "metadata": {},
   "outputs": [],
   "source": []
  },
  {
   "cell_type": "markdown",
   "metadata": {},
   "source": [
    "### Gráfico de barras"
   ]
  },
  {
   "cell_type": "code",
   "execution_count": null,
   "metadata": {},
   "outputs": [],
   "source": [
    "fig, ax = plt.subplots(1,4, figsize = (17,7), sharey = True)\n",
    "for n, col in enumerate(list(iris.columns)[0:4]):\n",
    "    sns.barplot( x = col, y = 'Species', data = iris, ax = ax[n])\n",
    "\n"
   ]
  },
  {
   "cell_type": "markdown",
   "metadata": {},
   "source": [
    "### Problemas com o gráfico de barras"
   ]
  },
  {
   "cell_type": "code",
   "execution_count": null,
   "metadata": {},
   "outputs": [],
   "source": [
    "random_bar1 = list(np.random.normal(100, 10, 100))\n",
    "random_bar2 = list(np.random.normal(50, 15, 50))\n",
    "random_bar2 += list(np.random.normal(150, 15, 50))\n"
   ]
  },
  {
   "cell_type": "code",
   "execution_count": null,
   "metadata": {},
   "outputs": [],
   "source": [
    "random_df = pd.DataFrame({1: random_bar1,\n",
    "             2: random_bar2}).melt()"
   ]
  },
  {
   "cell_type": "code",
   "execution_count": null,
   "metadata": {},
   "outputs": [],
   "source": [
    "sns.barplot(x = 'variable', y = 'value', data = random_df)"
   ]
  },
  {
   "cell_type": "markdown",
   "metadata": {},
   "source": [
    "#### Aparentemente as distribuições são semelhantes"
   ]
  },
  {
   "cell_type": "code",
   "execution_count": null,
   "metadata": {},
   "outputs": [],
   "source": [
    "sns.boxplot(x = 'variable', y = 'value', data = random_df)"
   ]
  },
  {
   "cell_type": "code",
   "execution_count": null,
   "metadata": {},
   "outputs": [],
   "source": [
    "sns.violinplot(x = 'variable', y = 'value', data = random_df)"
   ]
  },
  {
   "cell_type": "code",
   "execution_count": null,
   "metadata": {},
   "outputs": [],
   "source": [
    "sns.kdeplot(data = random_df[random_df.variable == 1]['value'], label = 'Value 1')\n",
    "sns.kdeplot(data = random_df[random_df.variable == 2]['value'], label = 'Value 2')"
   ]
  },
  {
   "cell_type": "markdown",
   "metadata": {},
   "source": [
    "### A importância de visualizar se os dados são normais ou não\n",
    "\n",
    "Se assumirmos que a distribuição é normal o teste mais obvio seria o test t.\n",
    "\n",
    "Porém uma pergunta melhor seria se as distribuições são semelhantes ou não assumindo que elas não são normais.\n",
    "\n",
    "Aplicando dessa forma o teste de Kolmogorov–Smirnov"
   ]
  },
  {
   "cell_type": "code",
   "execution_count": null,
   "metadata": {},
   "outputs": [],
   "source": [
    "print(f't-test                 : {stats.ttest_ind(random_bar1, random_bar2)[1]:.2f}')\n",
    "print(f'Kolmogorov–Smirnov test: {stats.ks_2samp(random_bar1, random_bar2)[1]:.2e}')"
   ]
  },
  {
   "cell_type": "markdown",
   "metadata": {},
   "source": [
    "### Histogramas"
   ]
  },
  {
   "cell_type": "code",
   "execution_count": null,
   "metadata": {},
   "outputs": [],
   "source": [
    "fig, ax = plt.subplots(figsize = (17,5))\n",
    "sns.kdeplot(iris.SepalLengthCm)"
   ]
  },
  {
   "cell_type": "code",
   "execution_count": null,
   "metadata": {},
   "outputs": [],
   "source": [
    "fig, ax = plt.subplots(1,4, figsize = (17,5))\n",
    "for n, col in enumerate(list(iris.columns)[0:4]):\n",
    "    sns.kdeplot(data = iris[iris.Species == iris.Species.unique()[0]][col],ax = ax[n], label = iris.Species.unique()[0])\n",
    "    sns.kdeplot(data = iris[iris.Species == iris.Species.unique()[1]][col], ax = ax[n], label = iris.Species.unique()[1])\n",
    "    sns.kdeplot(data = iris[iris.Species == iris.Species.unique()[2]][col], ax = ax[n], label = iris.Species.unique()[2])\n",
    "    ax[n].title.set_text(col)"
   ]
  },
  {
   "cell_type": "markdown",
   "metadata": {},
   "source": [
    "### Boxplots, violinplots e swarmplots"
   ]
  },
  {
   "cell_type": "code",
   "execution_count": null,
   "metadata": {},
   "outputs": [],
   "source": [
    "fig, ax = plt.subplots(1,4, figsize = (17,7), sharey = True)\n",
    "for n, col in enumerate(list(iris.columns)[0:4]):\n",
    "    sns.boxplot( x = col, y = 'Species', data = iris, ax = ax[n],showfliers=False)\n",
    "\n"
   ]
  },
  {
   "cell_type": "code",
   "execution_count": null,
   "metadata": {},
   "outputs": [],
   "source": [
    "fig, ax = plt.subplots(1,4, figsize = (17,7), sharey = True)\n",
    "for n, col in enumerate(list(iris.columns)[0:4]):\n",
    "    sns.violinplot( x = col, y = 'Species', data = iris, ax = ax[n],showfliers=False)\n",
    "\n"
   ]
  },
  {
   "cell_type": "code",
   "execution_count": null,
   "metadata": {},
   "outputs": [],
   "source": [
    "fig, ax = plt.subplots(1,4, figsize = (17,7), sharey = True)\n",
    "for n, col in enumerate(list(iris.columns)[0:4]):\n",
    "    sns.swarmplot( x = col, y = 'Species', data = iris, ax = ax[n])\n",
    "\n"
   ]
  },
  {
   "cell_type": "code",
   "execution_count": null,
   "metadata": {},
   "outputs": [],
   "source": [
    "a = sns.clustermap(iris.drop(columns = 'Species'), col_cluster = False)"
   ]
  },
  {
   "cell_type": "code",
   "execution_count": null,
   "metadata": {},
   "outputs": [],
   "source": []
  },
  {
   "cell_type": "code",
   "execution_count": null,
   "metadata": {},
   "outputs": [],
   "source": [
    "lut = dict(zip(iris['Species'].unique(), \"rbg\"))\n",
    "row_colors = iris['Species'].map(lut)\n",
    "g = sns.clustermap(iris.drop(columns = 'Species'), col_cluster = False, row_colors= row_colors)\n",
    "\n",
    "for label in iris['Species'].unique():\n",
    "    g.ax_col_dendrogram.bar(0, 0, color=lut[label],\n",
    "                            label=label, linewidth=0)\n",
    "g.ax_col_dendrogram.legend(loc=\"center\", ncol=6, fontsize = 14)"
   ]
  },
  {
   "cell_type": "markdown",
   "metadata": {},
   "source": [
    "### Normalizando os dados por z-score\n",
    "\n",
    "**z = (x – μ) / σ**"
   ]
  },
  {
   "cell_type": "code",
   "execution_count": null,
   "metadata": {},
   "outputs": [],
   "source": [
    "iris_norm = iris.copy()"
   ]
  },
  {
   "cell_type": "code",
   "execution_count": null,
   "metadata": {},
   "outputs": [],
   "source": [
    "for col in list(iris_norm.columns)[0:4]:\n",
    "    iris_norm[col + '_z'] = stats.zscore(iris_norm[col])\n"
   ]
  },
  {
   "cell_type": "code",
   "execution_count": null,
   "metadata": {},
   "outputs": [],
   "source": [
    "iris_norm.columns"
   ]
  },
  {
   "cell_type": "code",
   "execution_count": null,
   "metadata": {},
   "outputs": [],
   "source": [
    "iris_norm.describe().T"
   ]
  },
  {
   "cell_type": "code",
   "execution_count": null,
   "metadata": {},
   "outputs": [],
   "source": [
    "fig, ax = plt.subplots(2,4, figsize = (17,7), sharey = True)\n",
    "for y in range(2):\n",
    "    if y == 0:\n",
    "        d = iris\n",
    "    else: d = iris_norm\n",
    "    for n, col in enumerate(list(iris_norm.columns)[-4:]):\n",
    "        if y == 0:\n",
    "            col = col.replace('_z', '')\n",
    "        sns.boxplot( x = col, y = 'Species', data = d, ax = ax[y][n],showfliers=False)"
   ]
  },
  {
   "cell_type": "code",
   "execution_count": null,
   "metadata": {},
   "outputs": [],
   "source": [
    "fig, ax = plt.subplots(2,4, figsize = (17,7), sharey = True)\n",
    "for y in range(2):\n",
    "    if y == 0:\n",
    "        d = iris\n",
    "    else: d = iris_norm\n",
    "    for n, col in enumerate(list(iris_norm.columns)[-4:]):\n",
    "        if y == 0:\n",
    "            col = col.replace('_z', '')\n",
    "        sns.swarmplot( x = col, y = 'Species', data = d, ax = ax[y][n])"
   ]
  },
  {
   "cell_type": "code",
   "execution_count": null,
   "metadata": {},
   "outputs": [],
   "source": [
    "lut = dict(zip(iris['Species'].unique(), \"rbg\"))\n",
    "row_colors = iris_norm['Species'].map(lut)\n",
    "g = sns.clustermap(iris_norm.drop(columns = ['SepalLengthCm', 'SepalWidthCm', 'PetalLengthCm', 'PetalWidthCm',\n",
    "       'Species']), col_cluster = False, row_colors= row_colors)\n",
    "\n",
    "for label in iris_norm['Species'].unique():\n",
    "    g.ax_col_dendrogram.bar(0, 0, color=lut[label],\n",
    "                            label=label, linewidth=0)\n",
    "g.ax_col_dendrogram.legend(loc=\"center\", ncol=6, fontsize = 14)"
   ]
  },
  {
   "cell_type": "markdown",
   "metadata": {},
   "source": [
    "### Normalizando de forma diferente"
   ]
  },
  {
   "cell_type": "code",
   "execution_count": null,
   "metadata": {},
   "outputs": [],
   "source": [
    "iris_norm2 = iris.copy()\n",
    "for col in list(iris_norm2.columns)[0:4]:\n",
    "    iris_norm2[col + '_norm'] = iris_norm2[col]/iris_norm2[col].sum()\n"
   ]
  },
  {
   "cell_type": "code",
   "execution_count": null,
   "metadata": {},
   "outputs": [],
   "source": [
    "iris_norm2.head()"
   ]
  },
  {
   "cell_type": "code",
   "execution_count": null,
   "metadata": {},
   "outputs": [],
   "source": [
    "iris_norm2.describe().T"
   ]
  },
  {
   "cell_type": "code",
   "execution_count": null,
   "metadata": {},
   "outputs": [],
   "source": [
    "fig, ax = plt.subplots(3,4, figsize = (17,10), sharey = True)\n",
    "for y in range(3):\n",
    "    if y == 0:\n",
    "        d = iris\n",
    "    elif y == 1:\n",
    "        d = iris_norm\n",
    "    else: d = iris_norm2\n",
    "    for n, col in enumerate(list(iris_norm.columns)[-4:]):\n",
    "        if y == 0:\n",
    "            col = col.replace('_z', '')\n",
    "        if y == 2:\n",
    "            col = col.replace('_z', '_norm')\n",
    "        sns.boxplot( x = col, y = 'Species', data = d, ax = ax[y][n],showfliers=False)"
   ]
  },
  {
   "cell_type": "code",
   "execution_count": null,
   "metadata": {},
   "outputs": [],
   "source": [
    "fig, ax = plt.subplots(3,4, figsize = (17,10), sharey = True)\n",
    "for y in range(3):\n",
    "    if y == 0:\n",
    "        d = iris\n",
    "    elif y == 1:\n",
    "        d = iris_norm\n",
    "    else: d = iris_norm2\n",
    "    for n, col in enumerate(list(iris_norm.columns)[-4:]):\n",
    "        if y == 0:\n",
    "            col = col.replace('_z', '')\n",
    "        if y == 2:\n",
    "            col = col.replace('_z', '_norm')\n",
    "        sns.swarmplot( x = col, y = 'Species', data = d, ax = ax[y][n])"
   ]
  },
  {
   "cell_type": "code",
   "execution_count": null,
   "metadata": {},
   "outputs": [],
   "source": [
    "lut = dict(zip(iris['Species'].unique(), \"rbg\"))\n",
    "row_colors = iris_norm['Species'].map(lut)\n",
    "g = sns.clustermap(iris_norm2.drop(columns = ['SepalLengthCm', 'SepalWidthCm', 'PetalLengthCm', 'PetalWidthCm',\n",
    "       'Species']), col_cluster = False, row_colors= row_colors)\n",
    "\n",
    "for label in iris_norm['Species'].unique():\n",
    "    g.ax_col_dendrogram.bar(0, 0, color=lut[label],\n",
    "                            label=label, linewidth=0)\n",
    "g.ax_col_dendrogram.legend(loc=\"center\", ncol=6, fontsize = 14)"
   ]
  },
  {
   "cell_type": "markdown",
   "metadata": {},
   "source": [
    "### O início de uma análise multivariada..."
   ]
  },
  {
   "cell_type": "code",
   "execution_count": null,
   "metadata": {},
   "outputs": [],
   "source": [
    "sns.pairplot(iris, hue=\"Species\")"
   ]
  },
  {
   "cell_type": "markdown",
   "metadata": {},
   "source": [
    "By default, this function will create a grid of Axes such that each variable in data will by shared in the y-axis across a single row and in the x-axis across a single column. The diagonal Axes are treated differently, drawing a plot to show the univariate distribution of the data for the variable in that column."
   ]
  },
  {
   "cell_type": "code",
   "execution_count": null,
   "metadata": {},
   "outputs": [],
   "source": []
  },
  {
   "cell_type": "code",
   "execution_count": null,
   "metadata": {},
   "outputs": [],
   "source": []
  }
 ],
 "metadata": {
  "kernelspec": {
   "display_name": "Python 3",
   "language": "python",
   "name": "python3"
  },
  "language_info": {
   "codemirror_mode": {
    "name": "ipython",
    "version": 3
   },
   "file_extension": ".py",
   "mimetype": "text/x-python",
   "name": "python",
   "nbconvert_exporter": "python",
   "pygments_lexer": "ipython3",
   "version": "3.7.2"
  }
 },
 "nbformat": 4,
 "nbformat_minor": 4
}
